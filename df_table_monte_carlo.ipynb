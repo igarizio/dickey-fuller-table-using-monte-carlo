{
 "cells": [
  {
   "cell_type": "code",
   "execution_count": 1,
   "metadata": {
    "ExecuteTime": {
     "end_time": "2020-03-13T09:37:05.301195Z",
     "start_time": "2020-03-13T09:37:03.268332Z"
    }
   },
   "outputs": [],
   "source": [
    "import statsmodels.api as sm\n",
    "import numpy as np\n",
    "import pandas as pd\n",
    "import matplotlib.pyplot as plt\n",
    "\n",
    "from ARMA import ARMA  # Custom module to simulate series. Can be replaced with statsmodels."
   ]
  },
  {
   "cell_type": "code",
   "execution_count": 20,
   "metadata": {
    "ExecuteTime": {
     "end_time": "2020-03-14T07:39:39.011932Z",
     "start_time": "2020-03-14T07:39:38.996936Z"
    }
   },
   "outputs": [],
   "source": [
    "repetitions = 10000\n",
    "models = ['model_a', 'model_b', 'model_c']\n",
    "series_lengths = [25, 50, 100, 250, 500]\n",
    "percentiles = [10, 5, 2.5, 1]"
   ]
  },
  {
   "cell_type": "code",
   "execution_count": 3,
   "metadata": {
    "ExecuteTime": {
     "end_time": "2020-03-13T12:51:22.220016Z",
     "start_time": "2020-03-13T09:37:05.323187Z"
    }
   },
   "outputs": [],
   "source": [
    "# Creating an empty list for each model and length.\n",
    "# t_values = {'model_a': {25: [], ...}, 'model_b': {25: [], ...}, ...}\n",
    "t_values = {model: {series_length: [] for series_length in series_lengths} for model in models}\n",
    "\n",
    "for series_length in series_lengths:\n",
    "    for __ in range(repetitions):\n",
    "\n",
    "        y = ARMA.generate_ar(series_length, [1])  # y_{t} = y_{t-1} + e_{t}\n",
    "        delta_y = np.diff(y)  # delta_y_{t} = y_{t+1} - y_{t}\n",
    "        alpha = np.ones(series_length)  # alpha = 1\n",
    "        beta_t = np.arange(series_length)  # beta*t = [0, 1, 2, ...]\n",
    "\n",
    "        # Model a:\n",
    "        regressors_a = y[:-1]  # This makes y and delta_y have the same size.\n",
    "        results_a = sm.OLS(delta_y, regressors_a).fit()\n",
    "        t_values['model_a'][series_length].append(results_a.tvalues[0])\n",
    "\n",
    "        # Model b:\n",
    "        regressors_b = np.column_stack((y, alpha))[:-1]\n",
    "        results_b = sm.OLS(delta_y, regressors_b).fit()\n",
    "        t_values['model_b'][series_length].append(results_b.tvalues[0])\n",
    "\n",
    "        # Model c:\n",
    "        regressors_c = np.column_stack((y, alpha, beta_t))[:-1]\n",
    "        results_c = sm.OLS(delta_y, regressors_c).fit()\n",
    "        t_values['model_c'][series_length].append(results_c.tvalues[0])"
   ]
  },
  {
   "cell_type": "code",
   "execution_count": 4,
   "metadata": {
    "ExecuteTime": {
     "end_time": "2020-03-13T12:51:31.046494Z",
     "start_time": "2020-03-13T12:51:22.223023Z"
    }
   },
   "outputs": [],
   "source": [
    "# Creating an empty DataFrame to store the critical values.\n",
    "index = pd.MultiIndex.from_product([models, series_lengths])\n",
    "df_table = pd.DataFrame(columns=percentiles, index=index)\n",
    "\n",
    "# Filling the DataFrame.\n",
    "for model in models:\n",
    "    for series_length in series_lengths:\n",
    "        for percentile in percentiles:\n",
    "            critical_t_value = np.percentile(t_values[model][series_length], percentile)\n",
    "            df_table.loc[(model, series_length), percentile] = critical_t_value"
   ]
  },
  {
   "cell_type": "code",
   "execution_count": 21,
   "metadata": {
    "ExecuteTime": {
     "end_time": "2020-03-14T08:39:37.165354Z",
     "start_time": "2020-03-14T08:39:37.130377Z"
    }
   },
   "outputs": [
    {
     "data": {
      "text/html": [
       "<div>\n",
       "<style scoped>\n",
       "    .dataframe tbody tr th:only-of-type {\n",
       "        vertical-align: middle;\n",
       "    }\n",
       "\n",
       "    .dataframe tbody tr th {\n",
       "        vertical-align: top;\n",
       "    }\n",
       "\n",
       "    .dataframe thead th {\n",
       "        text-align: right;\n",
       "    }\n",
       "</style>\n",
       "<table border=\"1\" class=\"dataframe\">\n",
       "  <thead>\n",
       "    <tr style=\"text-align: right;\">\n",
       "      <th></th>\n",
       "      <th></th>\n",
       "      <th>10.0</th>\n",
       "      <th>5.0</th>\n",
       "      <th>2.5</th>\n",
       "      <th>1.0</th>\n",
       "    </tr>\n",
       "  </thead>\n",
       "  <tbody>\n",
       "    <tr>\n",
       "      <th rowspan=\"5\" valign=\"top\">model_a</th>\n",
       "      <th>25</th>\n",
       "      <td>-1.61</td>\n",
       "      <td>-1.96</td>\n",
       "      <td>-2.28</td>\n",
       "      <td>-2.66</td>\n",
       "    </tr>\n",
       "    <tr>\n",
       "      <th>50</th>\n",
       "      <td>-1.61</td>\n",
       "      <td>-1.95</td>\n",
       "      <td>-2.24</td>\n",
       "      <td>-2.61</td>\n",
       "    </tr>\n",
       "    <tr>\n",
       "      <th>100</th>\n",
       "      <td>-1.62</td>\n",
       "      <td>-1.95</td>\n",
       "      <td>-2.24</td>\n",
       "      <td>-2.59</td>\n",
       "    </tr>\n",
       "    <tr>\n",
       "      <th>250</th>\n",
       "      <td>-1.62</td>\n",
       "      <td>-1.95</td>\n",
       "      <td>-2.24</td>\n",
       "      <td>-2.58</td>\n",
       "    </tr>\n",
       "    <tr>\n",
       "      <th>500</th>\n",
       "      <td>-1.62</td>\n",
       "      <td>-1.94</td>\n",
       "      <td>-2.23</td>\n",
       "      <td>-2.57</td>\n",
       "    </tr>\n",
       "    <tr>\n",
       "      <th rowspan=\"5\" valign=\"top\">model_b</th>\n",
       "      <th>25</th>\n",
       "      <td>-2.64</td>\n",
       "      <td>-2.99</td>\n",
       "      <td>-3.32</td>\n",
       "      <td>-3.73</td>\n",
       "    </tr>\n",
       "    <tr>\n",
       "      <th>50</th>\n",
       "      <td>-2.60</td>\n",
       "      <td>-2.92</td>\n",
       "      <td>-3.22</td>\n",
       "      <td>-3.57</td>\n",
       "    </tr>\n",
       "    <tr>\n",
       "      <th>100</th>\n",
       "      <td>-2.58</td>\n",
       "      <td>-2.89</td>\n",
       "      <td>-3.16</td>\n",
       "      <td>-3.49</td>\n",
       "    </tr>\n",
       "    <tr>\n",
       "      <th>250</th>\n",
       "      <td>-2.57</td>\n",
       "      <td>-2.87</td>\n",
       "      <td>-3.13</td>\n",
       "      <td>-3.45</td>\n",
       "    </tr>\n",
       "    <tr>\n",
       "      <th>500</th>\n",
       "      <td>-2.57</td>\n",
       "      <td>-2.87</td>\n",
       "      <td>-3.13</td>\n",
       "      <td>-3.44</td>\n",
       "    </tr>\n",
       "    <tr>\n",
       "      <th rowspan=\"5\" valign=\"top\">model_c</th>\n",
       "      <th>25</th>\n",
       "      <td>-3.24</td>\n",
       "      <td>-3.61</td>\n",
       "      <td>-3.95</td>\n",
       "      <td>-4.39</td>\n",
       "    </tr>\n",
       "    <tr>\n",
       "      <th>50</th>\n",
       "      <td>-3.18</td>\n",
       "      <td>-3.50</td>\n",
       "      <td>-3.80</td>\n",
       "      <td>-4.15</td>\n",
       "    </tr>\n",
       "    <tr>\n",
       "      <th>100</th>\n",
       "      <td>-3.15</td>\n",
       "      <td>-3.46</td>\n",
       "      <td>-3.73</td>\n",
       "      <td>-4.06</td>\n",
       "    </tr>\n",
       "    <tr>\n",
       "      <th>250</th>\n",
       "      <td>-3.14</td>\n",
       "      <td>-3.43</td>\n",
       "      <td>-3.69</td>\n",
       "      <td>-4.00</td>\n",
       "    </tr>\n",
       "    <tr>\n",
       "      <th>500</th>\n",
       "      <td>-3.13</td>\n",
       "      <td>-3.42</td>\n",
       "      <td>-3.67</td>\n",
       "      <td>-3.98</td>\n",
       "    </tr>\n",
       "  </tbody>\n",
       "</table>\n",
       "</div>"
      ],
      "text/plain": [
       "             10.0  5.0   2.5   1.0 \n",
       "model_a 25  -1.61 -1.96 -2.28 -2.66\n",
       "        50  -1.61 -1.95 -2.24 -2.61\n",
       "        100 -1.62 -1.95 -2.24 -2.59\n",
       "        250 -1.62 -1.95 -2.24 -2.58\n",
       "        500 -1.62 -1.94 -2.23 -2.57\n",
       "model_b 25  -2.64 -2.99 -3.32 -3.73\n",
       "        50  -2.60 -2.92 -3.22 -3.57\n",
       "        100 -2.58 -2.89 -3.16 -3.49\n",
       "        250 -2.57 -2.87 -3.13 -3.45\n",
       "        500 -2.57 -2.87 -3.13 -3.44\n",
       "model_c 25  -3.24 -3.61 -3.95 -4.39\n",
       "        50  -3.18 -3.50 -3.80 -4.15\n",
       "        100 -3.15 -3.46 -3.73 -4.06\n",
       "        250 -3.14 -3.43 -3.69 -4.00\n",
       "        500 -3.13 -3.42 -3.67 -3.98"
      ]
     },
     "execution_count": 21,
     "metadata": {},
     "output_type": "execute_result"
    }
   ],
   "source": [
    "df_table.astype(float).round(2)"
   ]
  },
  {
   "cell_type": "code",
   "execution_count": 22,
   "metadata": {
    "ExecuteTime": {
     "end_time": "2020-03-14T08:50:28.495493Z",
     "start_time": "2020-03-14T08:50:25.716116Z"
    }
   },
   "outputs": [
    {
     "data": {
      "image/png": "[encoded data removed]",
      "text/plain": [
       "<Figure size 432x288 with 1 Axes>"
      ]
     },
     "metadata": {
      "needs_background": "light"
     },
     "output_type": "display_data"
    },
    {
     "data": {
      "image/png": "[encoded data removed]",
      "text/plain": [
       "<Figure size 432x288 with 1 Axes>"
      ]
     },
     "metadata": {
      "needs_background": "light"
     },
     "output_type": "display_data"
    },
    {
     "data": {
      "image/png": "[encoded data removed]",
      "text/plain": [
       "<Figure size 432x288 with 1 Axes>"
      ]
     },
     "metadata": {
      "needs_background": "light"
     },
     "output_type": "display_data"
    }
   ],
   "source": [
    "sel_length = 500\n",
    "\n",
    "for model_name in models:\n",
    "    plt.title(model_name)\n",
    "    plt.hist(t_values[model_name][sel_length], bins=200)\n",
    "    plt.show()"
   ]
  }
 ],
 "metadata": {
  "kernelspec": {
   "display_name": "Python 3",
   "language": "python",
   "name": "python3"
  },
  "language_info": {
   "codemirror_mode": {
    "name": "ipython",
    "version": 3
   },
   "file_extension": ".py",
   "mimetype": "text/x-python",
   "name": "python",
   "nbconvert_exporter": "python",
   "pygments_lexer": "ipython3",
   "version": "3.7.3"
  }
 },
 "nbformat": 4,
 "nbformat_minor": 2
}
